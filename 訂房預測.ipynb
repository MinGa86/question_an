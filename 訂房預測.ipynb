{
  "nbformat": 4,
  "nbformat_minor": 0,
  "metadata": {
    "colab": {
      "provenance": [],
      "collapsed_sections": []
    },
    "kernelspec": {
      "name": "python3",
      "display_name": "Python 3"
    },
    "language_info": {
      "name": "python"
    }
  },
  "cells": [
    {
      "cell_type": "markdown",
      "source": [
        "#題目\n",
        "阿竹是一個旅館銷售人員，負責某間旅館的銷售業務，他想針對旅館網頁的訪客進行廣告優惠，但是行銷經費有限，只能針對較有可能消費的訪客進行廣告。阿竹提供了旅館網站的Google Analytics流量統計資料，請資料工程師幫助阿竹找出可能進行消費的訪客。"
      ],
      "metadata": {
        "id": "KNT_gSQ3aR0N"
      }
    },
    {
      "cell_type": "code",
      "execution_count": 2,
      "metadata": {
        "id": "JB7x1PbaZqv6"
      },
      "outputs": [],
      "source": [
        "# 載入library\n",
        "import numpy as np\n",
        "import pandas as pd"
      ]
    },
    {
      "cell_type": "markdown",
      "source": [
        "1.\t基本題：預測訪客是否會訂房，請依照流量統計資料train.csv，訓練一個分類模型或回歸模型，預測test.csv中每位訪客是否會進行消費的機率，並依照sample_submission.csv的格式提交預測結果。請記錄資料分析、清理、建模、模型評估的過程，將完整過程、清理後資料與相關程式碼上傳至個人github並提供連結或是寄至 adrian.chen@gmail.com\n",
        "* 數據包含10個數字屬性和8個分類屬性\n",
        "* 'Revenue' 屬性將作為標籤 1 代表會訂房 0 代表不會\n",
        "* 使用訓練資料 train.csv 建立模型，預測 test.csv 是否會訂房\n",
        "* 屬性說明：\n",
        "\t- Administrative：管理頁面瀏覽數量\n",
        "\t- Administrative_Duration：管理頁面瀏覽時間 (sec)\n",
        "\t- Informational：資訊頁面瀏覽數量\n",
        "\t- Informational_Duration：資訊頁面瀏覽時間\n",
        "\t- ProductRelated：產品頁面瀏覽數量\n",
        "\t- ProductRelated_Duration：產品頁面瀏覽時間\n",
        "\t- BounceRates：跳出率 (上一頁)\n",
        "\t- ExitRates：退出率   (分頁關掉)\n",
        "\t- PageValues：頁面價值 (Google Analytics數值)\n",
        "\t- SpecialDay：特殊日期（例如聖誕節，情人節）接近程度\n",
        "\t- Month：訪問月份\n",
        "\t- OperatingSystems：作業系統 (類別型)\n",
        "\t- Browser：瀏覽器(類別型)\n",
        "\t- Region：地區(類別型)\n",
        "\t- TrafficType：流量來源\n",
        "\t- VisitorType：訪客類型\n",
        "\t- Weekend：訪問時間是否為週末\n",
        "\t- Revenue：是否訂房\n"
      ],
      "metadata": {
        "id": "iwIqfN0zabVz"
      }
    },
    {
      "cell_type": "code",
      "source": [
        "df = pd.read_csv('train.csv') #pandas套件讀取CSV檔資料型態為DaraFrame，並存在df變數裡\n",
        "df.head() #顯示前5筆資料\n",
        "df.shape"
      ],
      "metadata": {
        "colab": {
          "base_uri": "https://localhost:8080/"
        },
        "id": "5k-ZoyqNaECE",
        "outputId": "81eaae0a-6e92-4719-aa24-e8e98a8ac5c5"
      },
      "execution_count": 3,
      "outputs": [
        {
          "output_type": "execute_result",
          "data": {
            "text/plain": [
              "(8100, 19)"
            ]
          },
          "metadata": {},
          "execution_count": 3
        }
      ]
    },
    {
      "cell_type": "markdown",
      "source": [
        "STEP1. 資料初步判斷\n",
        "*   Revenue：是否訂房 (為預測目標)\n",
        "*   其餘值為訓練特徵\n",
        "\n",
        "\n",
        "\n",
        "\n",
        "\n"
      ],
      "metadata": {
        "id": "LP-XOYUDapLf"
      }
    },
    {
      "cell_type": "markdown",
      "source": [
        "STEP2. 查看資料內是否有丟失值"
      ],
      "metadata": {
        "id": "YvFyoTh9bDSy"
      }
    },
    {
      "cell_type": "code",
      "source": [
        "df.info() #查看表格內容是否有丟失值"
      ],
      "metadata": {
        "colab": {
          "base_uri": "https://localhost:8080/"
        },
        "id": "sSM5tr1JbEeq",
        "outputId": "eb6dcc1e-e6e3-4ddd-994e-c5e7be06e3b0"
      },
      "execution_count": 4,
      "outputs": [
        {
          "output_type": "stream",
          "name": "stdout",
          "text": [
            "<class 'pandas.core.frame.DataFrame'>\n",
            "RangeIndex: 8100 entries, 0 to 8099\n",
            "Data columns (total 19 columns):\n",
            " #   Column                   Non-Null Count  Dtype  \n",
            "---  ------                   --------------  -----  \n",
            " 0   ID                       8100 non-null   int64  \n",
            " 1   Administrative           8100 non-null   int64  \n",
            " 2   Administrative_Duration  8100 non-null   float64\n",
            " 3   Informational            8100 non-null   int64  \n",
            " 4   Informational_Duration   8100 non-null   float64\n",
            " 5   ProductRelated           8100 non-null   int64  \n",
            " 6   ProductRelated_Duration  8099 non-null   float64\n",
            " 7   BounceRates              8100 non-null   float64\n",
            " 8   ExitRates                8100 non-null   float64\n",
            " 9   PageValues               8100 non-null   float64\n",
            " 10  SpecialDay               8100 non-null   float64\n",
            " 11  Month                    8100 non-null   int64  \n",
            " 12  OperatingSystems         8099 non-null   float64\n",
            " 13  Browser                  8099 non-null   float64\n",
            " 14  Region                   8099 non-null   float64\n",
            " 15  TrafficType              8099 non-null   float64\n",
            " 16  VisitorType              8099 non-null   float64\n",
            " 17  Weekend                  8100 non-null   int64  \n",
            " 18  Revenue                  8100 non-null   int64  \n",
            "dtypes: float64(12), int64(7)\n",
            "memory usage: 1.2 MB\n"
          ]
        }
      ]
    },
    {
      "cell_type": "markdown",
      "source": [
        "以下6個項目有丟失值\n",
        "*   6 ProductRelated_Duration：產品頁面瀏覽時間\n",
        "*   12 OperatingSystems：作業系統 (類別型)\n",
        "*   13 Browser：瀏覽器(類別型) \n",
        "*   15 Region：地區(類別型)\n",
        "*   16 TrafficType：流量來源\n",
        "*   17 VisitorType : 訪客類型\n",
        "               \n",
        "\n",
        "\n",
        "\n",
        "\n",
        "\n"
      ],
      "metadata": {
        "id": "taXouHeQbQfo"
      }
    },
    {
      "cell_type": "code",
      "source": [
        "df_1=df.dropna() #將還有遺漏值的數據刪除並存為新的df_1\n",
        "df_1.info() #查看表格內容是否有丟失值"
      ],
      "metadata": {
        "colab": {
          "base_uri": "https://localhost:8080/"
        },
        "id": "M2o3867EfatB",
        "outputId": "a5872882-8bf9-4635-acc1-9a2515e05cf3"
      },
      "execution_count": 5,
      "outputs": [
        {
          "output_type": "stream",
          "name": "stdout",
          "text": [
            "<class 'pandas.core.frame.DataFrame'>\n",
            "Int64Index: 8097 entries, 0 to 8099\n",
            "Data columns (total 19 columns):\n",
            " #   Column                   Non-Null Count  Dtype  \n",
            "---  ------                   --------------  -----  \n",
            " 0   ID                       8097 non-null   int64  \n",
            " 1   Administrative           8097 non-null   int64  \n",
            " 2   Administrative_Duration  8097 non-null   float64\n",
            " 3   Informational            8097 non-null   int64  \n",
            " 4   Informational_Duration   8097 non-null   float64\n",
            " 5   ProductRelated           8097 non-null   int64  \n",
            " 6   ProductRelated_Duration  8097 non-null   float64\n",
            " 7   BounceRates              8097 non-null   float64\n",
            " 8   ExitRates                8097 non-null   float64\n",
            " 9   PageValues               8097 non-null   float64\n",
            " 10  SpecialDay               8097 non-null   float64\n",
            " 11  Month                    8097 non-null   int64  \n",
            " 12  OperatingSystems         8097 non-null   float64\n",
            " 13  Browser                  8097 non-null   float64\n",
            " 14  Region                   8097 non-null   float64\n",
            " 15  TrafficType              8097 non-null   float64\n",
            " 16  VisitorType              8097 non-null   float64\n",
            " 17  Weekend                  8097 non-null   int64  \n",
            " 18  Revenue                  8097 non-null   int64  \n",
            "dtypes: float64(12), int64(7)\n",
            "memory usage: 1.2 MB\n"
          ]
        }
      ]
    },
    {
      "cell_type": "code",
      "source": [
        "df_1.shape    #刪除後的資料為8097筆"
      ],
      "metadata": {
        "colab": {
          "base_uri": "https://localhost:8080/"
        },
        "id": "1fXbM9wwsoAo",
        "outputId": "819ae927-2476-46b3-dba2-8c4db3142f70"
      },
      "execution_count": 6,
      "outputs": [
        {
          "output_type": "execute_result",
          "data": {
            "text/plain": [
              "(8097, 19)"
            ]
          },
          "metadata": {},
          "execution_count": 6
        }
      ]
    },
    {
      "cell_type": "markdown",
      "source": [
        "STEP3. 對重新整理好的數據使用皮爾森相關係數查看特徵相關度"
      ],
      "metadata": {
        "id": "uO305B_ng1FP"
      }
    },
    {
      "cell_type": "code",
      "source": [
        "featuresCorr = df_1.corr('pearson')['Revenue'] \n",
        "print(abs(featuresCorr))\n",
        "percentage=[]\n",
        "for i in featuresCorr:\n",
        "  i=round(abs(i),1)\n",
        "  if i not in percentage:      \n",
        "    percentage.append(i)\n",
        "percentage = sorted(percentage)\n",
        "del percentage[-1]\n",
        "print(percentage)"
      ],
      "metadata": {
        "colab": {
          "base_uri": "https://localhost:8080/"
        },
        "id": "YbPlIY4B1MWY",
        "outputId": "b3a16b07-be55-4a5c-dffb-5e55be45c008"
      },
      "execution_count": 7,
      "outputs": [
        {
          "output_type": "stream",
          "name": "stdout",
          "text": [
            "ID                         0.001620\n",
            "Administrative             0.142896\n",
            "Administrative_Duration    0.096153\n",
            "Informational              0.091240\n",
            "Informational_Duration     0.068625\n",
            "ProductRelated             0.149102\n",
            "ProductRelated_Duration    0.005532\n",
            "BounceRates                0.050021\n",
            "ExitRates                  0.207755\n",
            "PageValues                 0.499476\n",
            "SpecialDay                 0.076347\n",
            "Month                      0.127974\n",
            "OperatingSystems           0.070931\n",
            "Browser                    0.018947\n",
            "Region                     0.010371\n",
            "TrafficType                0.088066\n",
            "VisitorType                0.111296\n",
            "Weekend                    0.003859\n",
            "Revenue                    1.000000\n",
            "Name: Revenue, dtype: float64\n",
            "[0.0, 0.1, 0.2, 0.5]\n"
          ]
        }
      ]
    },
    {
      "cell_type": "markdown",
      "source": [
        "查看其他方式的特徵相關度"
      ],
      "metadata": {
        "id": "BlJahO0kQMxF"
      }
    },
    {
      "cell_type": "code",
      "source": [
        "method=['pearson', 'kendall', 'spearman']\n",
        "percentage=[]\n",
        "for k in method:\n",
        "  featuresCorr = df_1.corr(k)['Revenue'] \n",
        "  for i in featuresCorr:\n",
        "    i=round(abs(i),1)\n",
        "    if i not in percentage:      \n",
        "      percentage.append(i)\n",
        "  percentage = sorted(percentage)\n",
        "  del percentage[-1]\n",
        "  print(percentage)\n",
        "  highly_corr_features=[] #0.1\n",
        "  highly_corr_features =df_1.columns[df_1.corr(k)['Revenue'].abs() > 0.1]\n",
        "  highly_corr_features = highly_corr_features.drop('Revenue')\n",
        "  print(highly_corr_features)"
      ],
      "metadata": {
        "colab": {
          "base_uri": "https://localhost:8080/"
        },
        "id": "qS-4ci9xn2OM",
        "outputId": "f4e289f9-78fe-4625-cdbf-ccfe74fa8823"
      },
      "execution_count": 9,
      "outputs": [
        {
          "output_type": "stream",
          "name": "stdout",
          "text": [
            "[0.0, 0.1, 0.2, 0.5]\n",
            "Index(['Administrative', 'ProductRelated', 'ExitRates', 'PageValues', 'Month',\n",
            "       'VisitorType'],\n",
            "      dtype='object')\n",
            "[0.0, 0.1, 0.2, 0.5, 0.6]\n",
            "Index(['Administrative', 'Administrative_Duration', 'ProductRelated',\n",
            "       'ProductRelated_Duration', 'BounceRates', 'ExitRates', 'PageValues',\n",
            "       'VisitorType'],\n",
            "      dtype='object')\n",
            "[0.0, 0.1, 0.2, 0.3, 0.5, 0.6]\n",
            "Index(['Administrative', 'Administrative_Duration', 'Informational',\n",
            "       'Informational_Duration', 'ProductRelated', 'ProductRelated_Duration',\n",
            "       'BounceRates', 'ExitRates', 'PageValues', 'Month', 'TrafficType',\n",
            "       'VisitorType'],\n",
            "      dtype='object')\n"
          ]
        }
      ]
    },
    {
      "cell_type": "code",
      "source": [
        "from sklearn.feature_selection import SelectKBest\n",
        "from sklearn.feature_selection import chi2\n",
        "n = 6\n",
        "chi = SelectKBest(chi2, k=n)\n",
        "arrchi = chi.fit_transform(abs(df_1.iloc[:, 1:-1]), df_1.iloc[:, -1])\n",
        "score = chi.scores_\n",
        "scoresort = np.argsort(score)\n",
        "scoresort = np.flipud(scoresort)\n",
        "df_1=df_1.iloc[:,1:-1]\n",
        "col = df_1.columns\n",
        "print('選擇的特徵：')\n",
        "for i in range(n):\n",
        "  print('{}：{}'.format(col[scoresort[i]], score[scoresort[i]]))"
      ],
      "metadata": {
        "colab": {
          "base_uri": "https://localhost:8080/"
        },
        "id": "Bw2K8zDo1WKa",
        "outputId": "d2d42733-1ac7-48bd-99d2-906a836cb89f"
      },
      "execution_count": null,
      "outputs": [
        {
          "output_type": "stream",
          "name": "stdout",
          "text": [
            "選擇的特徵：\n",
            "ProductRelated_Duration：120527566.48246247\n",
            "PageValues：113164.40120968515\n",
            "Administrative_Duration：29954.293840281967\n",
            "Informational_Duration：21196.2668079551\n",
            "ProductRelated：11445.589687746675\n",
            "Administrative：785.1374497152489\n"
          ]
        }
      ]
    },
    {
      "cell_type": "markdown",
      "source": [
        "最終選擇大於0.1的皮爾森相關係數數值做為訓練特徵\n",
        "* Administrative\n",
        "* ProductRelated\n",
        "* ExitRates\n",
        "* PageValues\n",
        "* Month\n",
        "* VisitorType"
      ],
      "metadata": {
        "id": "VrbfLSbFp8O3"
      }
    },
    {
      "cell_type": "code",
      "source": [
        "highly_corr_features=[] #0.1\n",
        "highly_corr_features =df_1.columns[df_1.corr('pearson')['Revenue'].abs() > 0.1]\n",
        "highly_corr_features = highly_corr_features.drop('Revenue')\n",
        "print(highly_corr_features)\n",
        "print(len(highly_corr_features))\n",
        "X=df_1[highly_corr_features]   #取出訓練特徵資料\n",
        "print(X)\n",
        "Y=df_1['Revenue']         #取出訓練答案資料"
      ],
      "metadata": {
        "id": "aHHvW_W7j1Au",
        "colab": {
          "base_uri": "https://localhost:8080/"
        },
        "outputId": "15cd5eef-bd58-4c7c-ca01-bf8f124df676"
      },
      "execution_count": 7,
      "outputs": [
        {
          "output_type": "stream",
          "name": "stdout",
          "text": [
            "Index(['Administrative', 'ProductRelated', 'ExitRates', 'PageValues', 'Month',\n",
            "       'VisitorType'],\n",
            "      dtype='object')\n",
            "6\n",
            "      Administrative  ProductRelated  ExitRates  PageValues  Month  \\\n",
            "0                  0               1   0.200000    0.000000      2   \n",
            "1                  0               1   0.200000    0.000000      9   \n",
            "2                  9              38   0.044508   10.721172      8   \n",
            "3                  2             105   0.020276    0.000000      2   \n",
            "4                  0              19   0.024642    0.000000      2   \n",
            "...              ...             ...        ...         ...    ...   \n",
            "8095               0               4   0.050000    0.000000      2   \n",
            "8096               1              84   0.038706    0.000000      6   \n",
            "8097               0              25   0.023333    0.000000      6   \n",
            "8098               9              95   0.018656    5.932009      8   \n",
            "8099               3              20   0.011688   15.065863      8   \n",
            "\n",
            "      VisitorType  \n",
            "0             2.0  \n",
            "1             2.0  \n",
            "2             2.0  \n",
            "3             2.0  \n",
            "4             2.0  \n",
            "...           ...  \n",
            "8095          2.0  \n",
            "8096          2.0  \n",
            "8097          2.0  \n",
            "8098          2.0  \n",
            "8099          2.0  \n",
            "\n",
            "[8097 rows x 6 columns]\n"
          ]
        }
      ]
    },
    {
      "cell_type": "markdown",
      "source": [
        "將選取的訓練特徵標準化"
      ],
      "metadata": {
        "id": "emFsJ8TejntZ"
      }
    },
    {
      "cell_type": "code",
      "source": [
        "from sklearn import preprocessing\n",
        "\n",
        "X = df_1[highly_corr_features] #取出訓練特徵資料\n",
        "#建立MinMaxScaler物件\n",
        "X_standardization = df_1[highly_corr_features] #取出正規化的特徵資料\n",
        "# minmax = preprocessing.MinMaxScaler()\n",
        "# zscore = preprocessing.StandardScaler()\n",
        "maxabs = preprocessing.MaxAbsScaler()   #選用最大絕對值標準化\n",
        "# robust = preprocessing.RobustScaler()\n",
        "# 資料標準化\n",
        "# X_standardization_features = minmax.fit_transform(X_standardization)\n",
        "# X_standardization_features = zscore.fit_transform(X_standardization)\n",
        "X_standardization_features = maxabs.fit_transform(X_standardization)\n",
        "# X_standardization_features = robust.fit_transform(X_standardization)\n",
        "X= pd.DataFrame(X_standardization_features,columns=highly_corr_features)\n",
        "Y=df_1['Revenue']         #取出訓練答案資料"
      ],
      "metadata": {
        "id": "N3xt9wSTLDzq"
      },
      "execution_count": 8,
      "outputs": []
    },
    {
      "cell_type": "markdown",
      "source": [
        "STEP4. 將X集(Input)與Y集(Output)資料分成訓練集與測試集並訓練模型"
      ],
      "metadata": {
        "id": "5WS_38BNlc_o"
      }
    },
    {
      "cell_type": "code",
      "source": [
        "from sklearn.model_selection import train_test_split,cross_val_score\n",
        "X_train, X_test, Y_train, Y_test = train_test_split(X, Y, test_size = 0.2, random_state = 54)"
      ],
      "metadata": {
        "id": "njzXU3TLTi3R"
      },
      "execution_count": null,
      "outputs": []
    },
    {
      "cell_type": "markdown",
      "source": [
        "STEP 4.1 使用KNN演算法訓練"
      ],
      "metadata": {
        "id": "uB1ClEKnwjkw"
      }
    },
    {
      "cell_type": "code",
      "source": [
        "# 使用KNN演算法訓練\n",
        "from sklearn.neighbors import KNeighborsClassifier\n",
        "from sklearn.model_selection import GridSearchCV #KNN超參數選用網格搜尋自動搜尋最佳K值\n",
        "import matplotlib.pyplot as plt\n",
        "\n",
        "param_grid = {'n_neighbors':np.arange(10)+1} #網格搜尋參數\n",
        "model = GridSearchCV(KNeighborsClassifier(),param_grid) #用網格搜尋找出最佳模型\n",
        "model.fit(X_train,Y_train)\n",
        "CV_score = cross_val_score(model,X_train,Y_train,cv=10)\n",
        "print('Best params:',model.best_params_)\n",
        "print('CV_10 score:',CV_score.mean().round(3))\n",
        "print('Test score:',model.score(X_test,Y_test).round(3))"
      ],
      "metadata": {
        "colab": {
          "base_uri": "https://localhost:8080/"
        },
        "id": "SawFED9YJvLr",
        "outputId": "8d2b48cb-8154-4431-a3a5-a4debc4e3f25"
      },
      "execution_count": 10,
      "outputs": [
        {
          "output_type": "stream",
          "name": "stdout",
          "text": [
            "Best params: {'n_neighbors': 8}\n",
            "CV_10 score: 0.885\n",
            "Test score: 0.875\n"
          ]
        }
      ]
    },
    {
      "cell_type": "markdown",
      "source": [
        "* KNN n_neighbors=8為最佳值\n",
        "* 且測試資料與10次交互驗證準確率並無太大差異"
      ],
      "metadata": {
        "id": "fefs4JlKvvkZ"
      }
    },
    {
      "cell_type": "code",
      "source": [
        "from sklearn.neighbors import KNeighborsClassifier\n",
        "from sklearn.metrics import accuracy_score\n",
        "from sklearn.metrics import confusion_matrix\n",
        "from sklearn.metrics import classification_report\n",
        "from sklearn.model_selection import train_test_split,cross_val_score\n",
        "X_train, X_test, Y_train, Y_test = train_test_split(X, Y, test_size = 0.2, random_state = 54)\n",
        "knn=KNeighborsClassifier(n_neighbors=8)\n",
        "knn.fit(X_train,Y_train)\n",
        "predictions = knn.predict(X_test)\n",
        "print(accuracy_score(Y_test,predictions))\n",
        "print(confusion_matrix(Y_test,predictions))\n",
        "print(classification_report(Y_test,predictions))"
      ],
      "metadata": {
        "colab": {
          "base_uri": "https://localhost:8080/"
        },
        "id": "rNh1Ojl8vkv8",
        "outputId": "0e0a968c-bc50-4b03-d832-cfb0dd30967f"
      },
      "execution_count": 13,
      "outputs": [
        {
          "output_type": "stream",
          "name": "stdout",
          "text": [
            "0.8753086419753087\n",
            "[[1332   41]\n",
            " [ 161   86]]\n",
            "              precision    recall  f1-score   support\n",
            "\n",
            "           0       0.89      0.97      0.93      1373\n",
            "           1       0.68      0.35      0.46       247\n",
            "\n",
            "    accuracy                           0.88      1620\n",
            "   macro avg       0.78      0.66      0.69      1620\n",
            "weighted avg       0.86      0.88      0.86      1620\n",
            "\n"
          ]
        }
      ]
    },
    {
      "cell_type": "markdown",
      "source": [
        "STEP 4.2 使用邏輯斯迴歸訓練"
      ],
      "metadata": {
        "id": "Qf430GkJ3R0F"
      }
    },
    {
      "cell_type": "code",
      "source": [
        "# 使用邏輯斯迴歸演算法訓練\n",
        "from sklearn.linear_model import LogisticRegression \n",
        "\n",
        "cv_scores=[]\n",
        "test_scores=[]\n",
        "\n",
        "x = [10**n for n in range(-5,6)]\n",
        "x_str = [str(n) for n in x]\n",
        "\n",
        "for c in x:\n",
        "  log_reg = LogisticRegression(C=c,max_iter=1000).fit(X_train,Y_train)\n",
        "  cv_scores.append(cross_val_score(log_reg,X_train,Y_train,cv=10).mean())\n",
        "  test_scores.append(log_reg.score(X_test,Y_test))\n",
        "\n",
        "plt.title('Logistic Regression hyperparameter')\n",
        "plt.plot(x_str,cv_scores,label='CV_10 score')\n",
        "plt.plot(x_str,test_scores,label='Test score')\n",
        "plt.xlabel('C')\n",
        "plt.ylabel('accuracy (%)')\n",
        "plt.legend()\n",
        "plt.grid(True)\n",
        "plt.show()"
      ],
      "metadata": {
        "colab": {
          "base_uri": "https://localhost:8080/",
          "height": 295
        },
        "id": "VNDVTiOItge4",
        "outputId": "46afc60d-e3ec-43e7-aaf6-8847f9abbf4f"
      },
      "execution_count": 14,
      "outputs": [
        {
          "output_type": "display_data",
          "data": {
            "text/plain": [
              "<Figure size 432x288 with 1 Axes>"
            ],
            "image/png": "[encoded data removed]"
          },
          "metadata": {
            "needs_background": "light"
          }
        }
      ]
    },
    {
      "cell_type": "markdown",
      "source": [
        "LogisticRegression C=1000-100000 近乎一樣因此設1000"
      ],
      "metadata": {
        "id": "lLUOTMd06rvS"
      }
    },
    {
      "cell_type": "code",
      "source": [
        "from sklearn.linear_model import LogisticRegression \n",
        "\n",
        "log_reg = LogisticRegression(C=1000,max_iter=1000)\n",
        "log_reg.fit(X_train,Y_train)\n",
        "predictions = log_reg.predict(X_test)\n",
        "print(accuracy_score(Y_test,predictions))\n",
        "print(confusion_matrix(Y_test,predictions))\n",
        "print(classification_report(Y_test,predictions))"
      ],
      "metadata": {
        "colab": {
          "base_uri": "https://localhost:8080/"
        },
        "id": "WvqJOo8668cF",
        "outputId": "961e5397-f2b9-415a-92f7-a79a1d1609bd"
      },
      "execution_count": 15,
      "outputs": [
        {
          "output_type": "stream",
          "name": "stdout",
          "text": [
            "0.8740740740740741\n",
            "[[1330   43]\n",
            " [ 161   86]]\n",
            "              precision    recall  f1-score   support\n",
            "\n",
            "           0       0.89      0.97      0.93      1373\n",
            "           1       0.67      0.35      0.46       247\n",
            "\n",
            "    accuracy                           0.87      1620\n",
            "   macro avg       0.78      0.66      0.69      1620\n",
            "weighted avg       0.86      0.87      0.86      1620\n",
            "\n"
          ]
        }
      ]
    },
    {
      "cell_type": "markdown",
      "source": [
        "STEP 4.3 使用支持向量機訓練"
      ],
      "metadata": {
        "id": "QrHnkfSL8Ftj"
      }
    },
    {
      "cell_type": "code",
      "source": [
        "##這邊跑很久沒跑完,SVM參數自己選用\n",
        "from sklearn.svm import SVC \n",
        "from sklearn.model_selection import RandomizedSearchCV\n",
        "\n",
        "param_grid = {'C':np.linspace(1,100,100),\n",
        "        'gamma':np.linspace(0.01,1,100),\n",
        "        'kernel':['linear','rbf','poly','sigmoid']}\n",
        "model = RandomizedSearchCV(SVC(),param_grid, n_iter=100) #隨機搜尋超參數\n",
        "# model.fit(X_train,Y_train)\n",
        "CV_score = cross_val_score(model,X_train,Y_train,cv=10)\n",
        "print('Best params:',model.best_params_)\n",
        "print('CV_10 score:',CV_score.mean().round(3))\n",
        "print('Test score:',model.score(X_test,Y_test).round(3))"
      ],
      "metadata": {
        "id": "LYrUQVcq8t5_"
      },
      "execution_count": null,
      "outputs": []
    },
    {
      "cell_type": "code",
      "source": [
        "from sklearn.svm import SVC \n",
        "from sklearn.metrics import accuracy_score            \n",
        "from sklearn.metrics import confusion_matrix\n",
        "from sklearn.metrics import classification_report\n",
        "SVM_method = SVC(C=1,gamma=100,kernel='rbf')\n",
        "SVM_method.fit(X_train,Y_train)\n",
        "predictions = SVM_method.predict(X_test)\n",
        "print(accuracy_score(Y_test,predictions))\n",
        "print(confusion_matrix(Y_test,predictions))\n",
        "print(classification_report(Y_test,predictions))"
      ],
      "metadata": {
        "id": "b2tvLKvA-Q31",
        "colab": {
          "base_uri": "https://localhost:8080/"
        },
        "outputId": "8fe1e186-e04d-4a10-ef48-3fc2cc58d16d"
      },
      "execution_count": 58,
      "outputs": [
        {
          "output_type": "stream",
          "name": "stdout",
          "text": [
            "0.8839506172839506\n",
            "[[1326   47]\n",
            " [ 141  106]]\n",
            "              precision    recall  f1-score   support\n",
            "\n",
            "           0       0.90      0.97      0.93      1373\n",
            "           1       0.69      0.43      0.53       247\n",
            "\n",
            "    accuracy                           0.88      1620\n",
            "   macro avg       0.80      0.70      0.73      1620\n",
            "weighted avg       0.87      0.88      0.87      1620\n",
            "\n"
          ]
        }
      ]
    },
    {
      "cell_type": "markdown",
      "source": [
        "STEP 4.4 使用決策樹訓練"
      ],
      "metadata": {
        "id": "evysZAu3VbST"
      }
    },
    {
      "cell_type": "code",
      "source": [
        "from sklearn.tree import DecisionTreeClassifier\n",
        "cv_scores=[]\n",
        "test_scores=[]\n",
        "x = np.arange(12)+1\n",
        "x_str = [str(n) for n in x]\n",
        "\n",
        "for d in x:\n",
        "  tree = DecisionTreeClassifier(max_depth=d).fit(X_train,Y_train)\n",
        "  cv_scores.append(cross_val_score(tree,X_train,Y_train,cv=10).mean())\n",
        "  test_scores.append(tree.score(X_test,Y_test))  \n",
        "\n",
        "plt.title('Decision Tree hyperparameter')\n",
        "plt.plot(x_str,cv_scores,label='CV_10 score')\n",
        "plt.plot(x_str,test_scores,label='Test score')\n",
        "plt.xlabel('Max depth')\n",
        "plt.ylabel('accuracy (%)')\n",
        "plt.legend()\n",
        "plt.grid(True)\n",
        "plt.show()"
      ],
      "metadata": {
        "colab": {
          "base_uri": "https://localhost:8080/",
          "height": 295
        },
        "id": "92bDJBbDWWtE",
        "outputId": "70f7c342-925c-4a8d-c140-fb76ba4de2be"
      },
      "execution_count": 63,
      "outputs": [
        {
          "output_type": "display_data",
          "data": {
            "text/plain": [
              "<Figure size 432x288 with 1 Axes>"
            ],
            "image/png": "[encoded data removed]"
          },
          "metadata": {
            "needs_background": "light"
          }
        }
      ]
    },
    {
      "cell_type": "markdown",
      "source": [
        "決策樹最大深度為6時，模型最佳，再用隨機森林搜尋最佳模型"
      ],
      "metadata": {
        "id": "5OuRw40uW9z6"
      }
    },
    {
      "cell_type": "code",
      "source": [
        "from sklearn.ensemble import RandomForestClassifier #用隨機森林找出最佳決策樹數量\n",
        "cv_scores=[]\n",
        "test_scores=[]\n",
        "x = (np.arange(10)+1)*50\n",
        "x_str = [str(n) for n in x]\n",
        "\n",
        "for t in x:\n",
        "  tree = RandomForestClassifier(n_estimators=t, max_depth=6 , random_state=54)\n",
        "  tree.fit(X_train,Y_train)\n",
        "  cv_scores.append(cross_val_score(tree,X_train,Y_train,cv=10).mean())\n",
        "  test_scores.append(tree.score(X_test,Y_test))  \n",
        "\n",
        "plt.title('Random Forest hyperparameter')\n",
        "plt.plot(x_str,cv_scores,label='CV_10 score')\n",
        "plt.plot(x_str,test_scores,label='Test score')\n",
        "plt.xlabel('Number of trees')\n",
        "plt.ylabel('accuracy (%)')\n",
        "plt.legend()\n",
        "plt.grid(True)\n",
        "plt.show()  "
      ],
      "metadata": {
        "colab": {
          "base_uri": "https://localhost:8080/",
          "height": 295
        },
        "id": "8KwgZw0AVtpW",
        "outputId": "652c10a1-8493-4478-c82f-40d7166385e9"
      },
      "execution_count": 64,
      "outputs": [
        {
          "output_type": "display_data",
          "data": {
            "text/plain": [
              "<Figure size 432x288 with 1 Axes>"
            ],
            "image/png": "[encoded data removed]"
          },
          "metadata": {
            "needs_background": "light"
          }
        }
      ]
    },
    {
      "cell_type": "markdown",
      "source": [
        "決策樹最大深度為6，150與400顆決策樹時，隨機森林的模型較佳"
      ],
      "metadata": {
        "id": "vzaW0UJtYy4T"
      }
    },
    {
      "cell_type": "code",
      "source": [
        "tree_method = RandomForestClassifier(n_estimators=150, max_depth=6 , random_state=54)\n",
        "tree_method.fit(X_train,Y_train)\n",
        "predictions = tree_method.predict(X_test)\n",
        "print(accuracy_score(Y_test,predictions))\n",
        "print(confusion_matrix(Y_test,predictions))\n",
        "print(classification_report(Y_test,predictions))"
      ],
      "metadata": {
        "colab": {
          "base_uri": "https://localhost:8080/"
        },
        "id": "_X5I4LwfY8HW",
        "outputId": "94385376-f868-4fb3-e86d-bd0e0563a955"
      },
      "execution_count": 73,
      "outputs": [
        {
          "output_type": "stream",
          "name": "stdout",
          "text": [
            "0.8901234567901235\n",
            "[[1309   64]\n",
            " [ 114  133]]\n",
            "              precision    recall  f1-score   support\n",
            "\n",
            "           0       0.92      0.95      0.94      1373\n",
            "           1       0.68      0.54      0.60       247\n",
            "\n",
            "    accuracy                           0.89      1620\n",
            "   macro avg       0.80      0.75      0.77      1620\n",
            "weighted avg       0.88      0.89      0.88      1620\n",
            "\n"
          ]
        }
      ]
    },
    {
      "cell_type": "markdown",
      "source": [
        "總結：f1-score-accuracy \n",
        "* KNN：88(%)\n",
        "* LogisticRegression:87(%)   \n",
        "* SVM:88(%) \n",
        "* RandomForest:89(%)     \n",
        "\n",
        "選用RandomForest的參數與模型來預測test集答案。"
      ],
      "metadata": {
        "id": "IF6hBqe8Zx6x"
      }
    },
    {
      "cell_type": "code",
      "source": [
        "df_test = pd.read_csv('test.csv') #讀取測試資料"
      ],
      "metadata": {
        "id": "9yXY4vzr_FZM"
      },
      "execution_count": null,
      "outputs": []
    },
    {
      "cell_type": "markdown",
      "source": [
        "查看測試資料是否有缺失"
      ],
      "metadata": {
        "id": "EfZ9JNDWcHTe"
      }
    },
    {
      "cell_type": "code",
      "source": [
        "df_test.info() #查看表格內容是否有丟失值"
      ],
      "metadata": {
        "colab": {
          "base_uri": "https://localhost:8080/"
        },
        "id": "K4FwIngfcAwt",
        "outputId": "0a40baad-196b-4f6c-8fbb-f0cf7ade4481"
      },
      "execution_count": 75,
      "outputs": [
        {
          "output_type": "stream",
          "name": "stdout",
          "text": [
            "<class 'pandas.core.frame.DataFrame'>\n",
            "RangeIndex: 900 entries, 0 to 899\n",
            "Data columns (total 18 columns):\n",
            " #   Column                   Non-Null Count  Dtype  \n",
            "---  ------                   --------------  -----  \n",
            " 0   ID                       900 non-null    int64  \n",
            " 1   Administrative           900 non-null    int64  \n",
            " 2   Administrative_Duration  900 non-null    float64\n",
            " 3   Informational            900 non-null    int64  \n",
            " 4   Informational_Duration   900 non-null    float64\n",
            " 5   ProductRelated           900 non-null    int64  \n",
            " 6   ProductRelated_Duration  900 non-null    float64\n",
            " 7   BounceRates              900 non-null    float64\n",
            " 8   ExitRates                900 non-null    float64\n",
            " 9   PageValues               900 non-null    float64\n",
            " 10  SpecialDay               900 non-null    float64\n",
            " 11  Month                    900 non-null    int64  \n",
            " 12  OperatingSystems         900 non-null    int64  \n",
            " 13  Browser                  900 non-null    int64  \n",
            " 14  Region                   900 non-null    int64  \n",
            " 15  TrafficType              900 non-null    int64  \n",
            " 16  VisitorType              900 non-null    int64  \n",
            " 17  Weekend                  900 non-null    int64  \n",
            "dtypes: float64(7), int64(11)\n",
            "memory usage: 126.7 KB\n"
          ]
        }
      ]
    },
    {
      "cell_type": "code",
      "source": [
        "X_test_standardization = df_test[highly_corr_features] #取出df_test特徵資料\n",
        "X_test_standardization_features = maxabs.fit_transform(X_test_standardization)#對df_test特徵資料標準化\n",
        "X_df_test= pd.DataFrame(X_test_standardization_features,columns=highly_corr_features)\n",
        "predictions = tree_method.predict(X_df_test)\n",
        "ID_df=df_test['ID']\n",
        "Revenue_df=pd.DataFrame({'Revenue':predictions})\n",
        "sample_submission = pd.merge(ID_df, Revenue_df, left_index=True, right_index=True)\n",
        "print(sample_submission)\n",
        "sample_submission.to_csv('sample_submission.csv') #存為CSV檔"
      ],
      "metadata": {
        "colab": {
          "base_uri": "https://localhost:8080/"
        },
        "id": "f3phf3hJb_8C",
        "outputId": "b4d171e2-dc67-4ff3-be70-f3f50bc182f3"
      },
      "execution_count": 78,
      "outputs": [
        {
          "output_type": "stream",
          "name": "stdout",
          "text": [
            "       ID  Revenue\n",
            "0    6162        0\n",
            "1    8143        0\n",
            "2    5571        1\n",
            "3    3933        0\n",
            "4     934        0\n",
            "..    ...      ...\n",
            "895  5887        0\n",
            "896  5273        0\n",
            "897  5833        0\n",
            "898  2119        0\n",
            "899  4448        0\n",
            "\n",
            "[900 rows x 2 columns]\n"
          ]
        }
      ]
    }
  ]
}