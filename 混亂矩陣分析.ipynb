{
  "nbformat": 4,
  "nbformat_minor": 0,
  "metadata": {
    "colab": {
      "provenance": []
    },
    "kernelspec": {
      "name": "python3",
      "display_name": "Python 3"
    },
    "language_info": {
      "name": "python"
    }
  },
  "cells": [
    {
      "cell_type": "code",
      "execution_count": 20,
      "metadata": {
        "colab": {
          "base_uri": "https://localhost:8080/"
        },
        "id": "NvaJX1npdXEB",
        "outputId": "f24bd58f-3153-4f20-f1b1-6dbef0385118"
      },
      "outputs": [
        {
          "output_type": "stream",
          "name": "stdout",
          "text": [
            "      預測為真  預測為假\n",
            "實際為真   853   576\n",
            "實際為假   341  7230\n",
            "      預測為真  預測為假\n",
            "實際為真   846   583\n",
            "實際為假   316  7255\n"
          ]
        }
      ],
      "source": [
        "from pandas.io.formats.style import Axis\n",
        "from numpy.lib.shape_base import column_stack\n",
        "# 載入library\n",
        "import numpy as np\n",
        "import pandas as pd\n",
        "\n",
        "Model_A_data=np.array([[853,576],[341,7230]])\n",
        "Model_B_data=np.array([[846,583],[316,7255]])\n",
        "column_0=['實際為真','實際為假']\n",
        "column_1=['預測為真','預測為假']\n",
        "Model_A=pd.DataFrame(Model_A_data,columns=column_1,index=column_0)\n",
        "Model_B=pd.DataFrame(Model_B_data,columns=column_1,index=column_0)\n",
        "print(Model_A)\n",
        "print(Model_B)"
      ]
    },
    {
      "cell_type": "code",
      "source": [
        "Model_A_TP=round(853/(853+341),2)\n",
        "Model_A_FN=round(576/(576+7230),2)\n",
        "Model_A_FP=round(341/(341+7230),2)\n",
        "Model_A_TN=round(7230/(341+7230),2)\n",
        "  \n",
        "Model_B_TP=round(846/(846+341),2)\n",
        "Model_B_FN=round(583/(583+7255),2)\n",
        "Model_B_FP=round(316/(316+7255),2)\n",
        "Model_B_TN=round(7255/(316+7255),2)\n",
        "\n",
        "Model_A_Confusion_Matrix=np.array([[Model_A_TP,Model_A_FN],[Model_A_FP,Model_A_TN]])\n",
        "Model_B_Confusion_Matrix=np.array([[Model_B_TP,Model_B_FN],[Model_B_FP,Model_B_TN]])\n",
        "Model_A_Confusion_Matrix=pd.DataFrame(Model_A_Confusion_Matrix,columns=column_1,index=column_0)\n",
        "Model_B_Confusion_Matrix=pd.DataFrame(Model_B_Confusion_Matrix,columns=column_1,index=column_0)\n",
        "print(Model_A_Confusion_Matrix)\n",
        "print(Model_B_Confusion_Matrix)\n"
      ],
      "metadata": {
        "colab": {
          "base_uri": "https://localhost:8080/"
        },
        "id": "StS0aLb3hGWO",
        "outputId": "d3bd10aa-e2a8-44b2-e1cd-fef1d003de25"
      },
      "execution_count": 32,
      "outputs": [
        {
          "output_type": "stream",
          "name": "stdout",
          "text": [
            "      預測為真  預測為假\n",
            "實際為真  0.71  0.07\n",
            "實際為假  0.05  0.95\n",
            "      預測為真  預測為假\n",
            "實際為真  0.71  0.07\n",
            "實際為假  0.04  0.96\n"
          ]
        }
      ]
    },
    {
      "cell_type": "code",
      "source": [
        "Model_A_TPR=round(Model_A_TP/(Model_A_TP+Model_A_FN),2)\n",
        "Model_A_FPR=round(Model_A_FP/(Model_A_FP+Model_A_FN),2)\n",
        "Model_B_TPR=round(Model_B_TP/(Model_B_TP+Model_B_FN),2)\n",
        "Model_B_FPR=round(Model_B_FP/(Model_B_FP+Model_B_FN),2)\n",
        "\n",
        "\n",
        "Model_A_Accuracy=round((Model_A_TP+Model_A_TN)/(Model_A_TP+Model_A_FP+Model_A_FN+Model_A_TN),2)\n",
        "Model_A_Precision=round(Model_A_FP/(Model_A_TP+Model_A_FP),2)\n",
        "Model_A_Recall=round(Model_A_TP/(Model_A_TP+Model_A_FN),2)\n",
        "\n",
        "Model_B_Accuracy=round((Model_B_TP+Model_B_TN)/(Model_B_TP+Model_B_FP+Model_B_FN+Model_B_TN),2)\n",
        "Model_B_Precision=round(Model_B_FP/(Model_B_TP+Model_B_FP),2)\n",
        "Model_B_Recall=round(Model_B_TP/(Model_B_TP+Model_B_FN),2)\n",
        "\n",
        "Model_A_F1=2/((1/Model_A_Precision)+(1/Model_A_Recall))\n",
        "Model_B_F1=2/((1/Model_B_Precision)+(1/Model_B_Recall))\n",
        "\n",
        "print('Model A True Positive Rate : ',Model_A_TPR)\n",
        "print('Model A False Positive Rate : ',Model_A_FPR)\n",
        "print('/////////////////////////////////////')\n",
        "print('Model B True Positive Rate : ',Model_B_TPR)\n",
        "print('Model B False Positive Rate : ',Model_B_FPR)\n",
        "print('/////////////////////////////////////')\n",
        "print('Model A Accuracy : ',Model_A_Accuracy)\n",
        "print('Model A Precision : ',Model_A_Precision)\n",
        "print('Model A Recall : ',Model_A_Recall)\n",
        "print('/////////////////////////////////////')\n",
        "print('Model B Accuracy : ',Model_B_Accuracy)\n",
        "print('Model B Precision : ',Model_B_Precision)\n",
        "print('Model B Recall : ',Model_B_Recall)\n",
        "print('/////////////////////////////////////')\n",
        "print('Model A F1-score : ',Model_A_F1)\n",
        "print('Model B F1-score : ',Model_B_F1)"
      ],
      "metadata": {
        "colab": {
          "base_uri": "https://localhost:8080/"
        },
        "id": "GnMNmK9r701l",
        "outputId": "88a99d92-e570-4852-cb08-888551a8e7e0"
      },
      "execution_count": 50,
      "outputs": [
        {
          "output_type": "stream",
          "name": "stdout",
          "text": [
            "Model A True Positive Rate :  0.91\n",
            "Model A False Positive Rate :  0.42\n",
            "/////////////////////////////////////\n",
            "Model B True Positive Rate :  0.91\n",
            "Model B False Positive Rate :  0.36\n",
            "/////////////////////////////////////\n",
            "Model A Accuracy :  0.93\n",
            "Model A Precision :  0.07\n",
            "Model A Recall :  0.91\n",
            "/////////////////////////////////////\n",
            "Model B Accuracy :  0.94\n",
            "Model B Precision :  0.05\n",
            "Model B Recall :  0.91\n",
            "/////////////////////////////////////\n",
            "Model A F1 :  0.13\n",
            "Model B F1 :  0.09479166666666666\n"
          ]
        }
      ]
    },
    {
      "cell_type": "markdown",
      "source": [
        "雖Model B的Accuracy值較高一些,但與Model A相比沒差多少，但Model A的F1 score值較Model B高，因此ModelA 較適合本次的案例使用。"
      ],
      "metadata": {
        "id": "SIUI2THZ-3Bd"
      }
    }
  ]
}